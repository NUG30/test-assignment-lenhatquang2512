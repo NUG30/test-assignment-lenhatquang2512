{
  "nbformat": 4,
  "nbformat_minor": 0,
  "metadata": {
    "colab": {
      "name": "assignment.ipynb",
      "provenance": []
    },
    "kernelspec": {
      "name": "python3",
      "display_name": "Python 3"
    }
  },
  "cells": [
    {
      "cell_type": "markdown",
      "metadata": {
        "id": "MzlSYDFacuFX"
      },
      "source": [
        "# Homework 0: Welcome to Mathematics for Machine Learning\n",
        "This assignment serves to help you get familiar with GitHub and Google Colab, as well as a few basic Python commands."
      ]
    },
    {
      "cell_type": "markdown",
      "metadata": {
        "id": "UClseA-clc7w"
      },
      "source": [
        "## Part 0: Open the assignment\n",
        "If you are viewing this assignment from GitHub, open it in Google Colab. There are many ways to do it:\n",
        "\n",
        "* find out the address (URL) of this notebook on GitHub (for example, you can copy it from the address bar of your browse) and change the URL. If the URL of your notebook is  https://github.com/foo/bar/blob/master/assignment.ipynb, then the Colab link to it is: https://colab.research.google.com/github/foo/bar/blob/master/colab-github-demo.ipynb;\n",
        "* if you are using Chrome, then installing the [Open in Colab](https://chrome.google.com/webstore/detail/open-in-colab/iogfkhleblhcpcekbiedikdehleodpjo) extension would allow you to open this notebook in Colab in just one click;\n",
        "* go to [this page](https://colab.research.google.com/github/), find the homework repository that was created for you, and open `assignment.ipynb` in Colab.\n",
        "\n",
        "The rest of this assignment assumes that you are viewing it in Colab. If you are familiar with IPython notebooks, you may also use another tool to complete this assignment, although this method would not be supported by the course staff."
      ]
    },
    {
      "cell_type": "markdown",
      "metadata": {
        "id": "hAA1KHHalew1"
      },
      "source": [
        "## Part 1: Entering Text in Google Colab\n",
        "In the next part of this assignment, you will learn to enter some text in Google Colab. To enter text, you must be in a text cell. Click on the \"+Text\" button at the top left of the page to create a text cell, and drag it to the desired position if needed.\n",
        "\n",
        "Text in the Colab is formatted using a markup language called Markdown. Google provides a brief [tutorial of Markdown](https://colab.research.google.com/notebooks/markdown_guide.ipynb) here. If you are already familiar with Markdown, you don't have to read this tutorial; if not, please take some time to familiarize yourself with Markdown. \n",
        "\n",
        "You can also use LaTeX to typeset mathematical equations in Colab if you enclose the LaTeX code in `$ $` (if you want to enter an equation in the middle of a line) or `$$ $$` (if you want the equation to be displayed on its own line). For example, `$x^2 + 3\\sqrt{x}$` is displayed as $x^2 + 3\\sqrt{x}$. There are a lot of LaTeX tutorials online and we do not give one for this reason; just a Google search would find you many of them.\n",
        "\n",
        "To help you familiarize yourself with Markdown and LaTeX, we give out two tasks that involve entering text using Markdown and LaTeX."
      ]
    },
    {
      "cell_type": "markdown",
      "metadata": {
        "id": "Y6NhypN7nWlj"
      },
      "source": [
        "### Task 1\n",
        "Create a text cell right below here, and introduce yourself in the text cell. The introduction must be formatted as a bulleted list, and should contain at the very least your name, major, year and email. "
      ]
    },
    {
      "cell_type": "markdown",
      "metadata": {
        "id": "jQLCyU_7eYrS"
      },
      "source": [
        ""
      ]
    },
    {
      "cell_type": "markdown",
      "metadata": {
        "id": "zX1wfUKqlo5u"
      },
      "source": [
        " ##### Introduction\n",
        "* **_Name_**  : Le Nhat Quang\n",
        "* **_Major_** : Mechanical Engineer\n",
        "* **_Year_**  :  3rd Year student\n",
        "* **_Email_** : nhatquangmagic@gmail.com"
      ]
    },
    {
      "cell_type": "markdown",
      "metadata": {
        "id": "61UsGUzanXc1"
      },
      "source": [
        "### Task 2\n",
        "Create a text cell right below here, and type the [quadratic formula](https://en.wikipedia.org/wiki/Quadratic_formula) in LaTeX. Make sure it displays correctly."
      ]
    },
    {
      "cell_type": "markdown",
      "metadata": {
        "id": "RjYETeP4oMIs"
      },
      "source": [
        "$x = \\frac{-b\\pm\\sqrt{b^2-4ac}}{2a}$"
      ]
    },
    {
      "cell_type": "markdown",
      "metadata": {
        "id": "FgNnUhRYom_-"
      },
      "source": [
        "# Part 2: Basic Python\n",
        "This part of the assignment is designed to help you learn some basic Python. You can find a basic inttroduction to Python here: http://cs229.stanford.edu/notes2020fall/notes2020fall/Fall_2020_Notebook.html\n",
        "\n",
        "The graph, which appeared in the lecture was created with the following code:"
      ]
    },
    {
      "cell_type": "code",
      "metadata": {
        "id": "czLtrSi9z4Ev",
        "outputId": "b34ff559-8127-4124-db5c-4165136ee3f3",
        "colab": {
          "base_uri": "https://localhost:8080/",
          "height": 506
        }
      },
      "source": [
        "import numpy as np\n",
        "from matplotlib import pyplot as plt\n",
        "\n",
        "x = np.array([1, 2, 3, 4, 5, 6, 7, 8])\n",
        "y = np.array([1, 4 ,9 ,16, 25, 36, 49, 64])\n",
        "\n",
        "plt.figure(figsize=(8,8))\n",
        "plt.plot(x,y,'d')\n",
        "plt.xlabel(\"Weeks living in Viet Nam\", fontsize=20)\n",
        "plt.ylabel(\"Pho eaten\", fontsize=20)\n",
        "plt.show()"
      ],
      "execution_count": 16,
      "outputs": [
        {
          "output_type": "display_data",
          "data": {
            "image/png": "[encoded data removed]",
            "text/plain": [
              "<Figure size 576x576 with 1 Axes>"
            ]
          },
          "metadata": {
            "tags": [],
            "needs_background": "light"
          }
        }
      ]
    },
    {
      "cell_type": "markdown",
      "metadata": {
        "id": "cqbRGan-z6ku"
      },
      "source": [
        "Execute the above code (by clicking on the top left \"Play button\") and try to change the code a bit. Maybe try to create random inputs for x and y, change the optics of the graph (google \"pyplot\"), etc."
      ]
    },
    {
      "cell_type": "markdown",
      "metadata": {
        "id": "09w-Ml7Lovpl"
      },
      "source": [
        "# Submitting the assignment\n",
        "Go to **File→Save a copy to GitHub** and save the completed assignment in the homework repository created for you (i.e., the repository where you opened this homework from). Do not change the file name."
      ]
    }
  ]
}